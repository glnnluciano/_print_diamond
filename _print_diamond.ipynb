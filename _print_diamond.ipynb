{
 "cells": [
  {
   "cell_type": "markdown",
   "metadata": {},
   "source": [
    "Exercise 3:  Diamond Shape"
   ]
  },
  {
   "cell_type": "code",
   "execution_count": null,
   "metadata": {},
   "outputs": [],
   "source": [
    "while True:\n",
    "    try:\n",
    "        n = int(input(\"Enter an odd integer: \"))\n",
    "        if n < 0:\n",
    "            print(\"'n' must be a positive odd integer. Please try again.\")\n",
    "        elif n%2 == 0:\n",
    "            print(\"The number is even. Please enter an odd integer.\")\n",
    "        else:\n",
    "            break\n",
    "    except ValueError:\n",
    "        print(\"Invalid Input: Please enter a valid integer.\")\n",
    "\n",
    "for i in range(n):\n",
    "    if i < n/2:\n",
    "        for j in range(n//2-i):\n",
    "            print(\" \", end = \"\")\n",
    "        for j in range(2*i+1):\n",
    "            print(\"*\", end = \"\")\n",
    "    else:\n",
    "        for j in range(i-n//2):\n",
    "            print(\" \", end = \"\")\n",
    "        for j in range(2*(n-i)-1):\n",
    "                print(\"*\", end = \"\")\n",
    "    print()"
   ]
  }
 ],
 "metadata": {
  "kernelspec": {
   "display_name": "Python 3",
   "language": "python",
   "name": "python3"
  },
  "language_info": {
   "codemirror_mode": {
    "name": "ipython",
    "version": 3
   },
   "file_extension": ".py",
   "mimetype": "text/x-python",
   "name": "python",
   "nbconvert_exporter": "python",
   "pygments_lexer": "ipython3",
   "version": "3.12.0"
  }
 },
 "nbformat": 4,
 "nbformat_minor": 2
}
